{
 "cells": [
  {
   "cell_type": "code",
   "execution_count": 1,
   "metadata": {},
   "outputs": [],
   "source": [
    "from sklearn.model_selection import cross_val_score, KFold\n",
    "from sklearn.svm import SVC\n",
    "from sklearn.model_selection import train_test_split, GridSearchCV\n",
    "from sklearn.feature_extraction.text import CountVectorizer, TfidfTransformer, TfidfVectorizer\n",
    "from sklearn.metrics import classification_report, accuracy_score, confusion_matrix, f1_score\n",
    "import pandas as pd\n",
    "from datetime import datetime"
   ]
  },
  {
   "cell_type": "code",
   "execution_count": 5,
   "metadata": {},
   "outputs": [],
   "source": [
    "data_file = \"../Data/AllData_Sentiment.csv\"\n",
    "data = pd.read_csv(data_file)\n",
    "\n",
    "reviews = data['Reviews']\n",
    "polarity = data['Polarity']\n",
    "\n",
    "X_train, X_test, y_train, y_test = train_test_split(reviews, polarity, test_size=0.25, random_state=0)\n",
    "\n",
    "countVectorizer = CountVectorizer(min_df = 4, max_df=0.85)\n",
    "X_train = countVectorizer.fit_transform(X_train)\n",
    "X_test = countVectorizer.transform(X_test)\n",
    "\n",
    "parameters = {'C':[3], 'gamma':[0.1], 'kernel':['rbf'], 'degree': [1]}\n",
    "\n",
    "svmClf = GridSearchCV(estimator = SVC(), param_grid = parameters)\n",
    "svmClf.fit(X_train, y_train)\n",
    "svmClf_ypred = svmClf.predict(X_test)\n",
    "f1_svmClf = f1_score(y_test, svmClf_ypred, average = 'weighted')\n",
    "accuracy_svmClf = accuracy_score(y_test, svmClf_ypred)\n",
    "    \n"
   ]
  },
  {
   "cell_type": "code",
   "execution_count": 6,
   "metadata": {},
   "outputs": [
    {
     "name": "stdout",
     "output_type": "stream",
     "text": [
      "0.938377973403259\n"
     ]
    }
   ],
   "source": [
    "print (accuracy_svmClf)"
   ]
  },
  {
   "cell_type": "code",
   "execution_count": null,
   "metadata": {},
   "outputs": [],
   "source": [
    "import pickle\n",
    "pickle.dump(countVectorizer, open(\"../sentiment_vectorizer.pickle\", \"wb\"))\n",
    "pickle.dump(svmClf, open(\"../sentiment_classifier.pickle\", 'wb'))"
   ]
  },
  {
   "cell_type": "code",
   "execution_count": null,
   "metadata": {},
   "outputs": [],
   "source": [
    "### get all the predicted polarity\n",
    "\n",
    "new_reviews = []\n",
    "new_polarity = []\n",
    "new_predicted_polarity = []\n",
    "# count = 0\n",
    "\n",
    "for i in range(len(reviews)):\n",
    "    curr_review = [reviews[i]]\n",
    "    curr_review = countVectorizer.transform(curr_review)\n",
    "    predicted_polarity = svmClf.predict(curr_review)\n",
    "    \n",
    "    new_reviews.append(reviews[i])\n",
    "    new_polarity.append(polarity[i])\n",
    "    new_predicted_polarity.append(predicted_polarity[0])\n",
    "    \n",
    "# print (count)\n",
    "# print (len(reviews))\n",
    "# print (1 - count/len(reviews))\n",
    "\n",
    "new_data = {'Reviews': new_reviews, 'Polarity': new_polarity, 'Predicted Polarity': new_predicted_polarity}\n",
    "new_df = pd.DataFrame.from_dict(new_data)\n",
    "new_df.to_csv('../Data/AllData_Sentiment_Labelled.csv')\n"
   ]
  }
 ],
 "metadata": {
  "kernelspec": {
   "display_name": "Python 3",
   "language": "python",
   "name": "python3"
  },
  "language_info": {
   "codemirror_mode": {
    "name": "ipython",
    "version": 3
   },
   "file_extension": ".py",
   "mimetype": "text/x-python",
   "name": "python",
   "nbconvert_exporter": "python",
   "pygments_lexer": "ipython3",
   "version": "3.7.6"
  }
 },
 "nbformat": 4,
 "nbformat_minor": 2
}
