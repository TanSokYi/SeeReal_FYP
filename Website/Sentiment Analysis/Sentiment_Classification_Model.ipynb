{
 "cells": [
  {
   "cell_type": "markdown",
   "metadata": {},
   "source": [
    "### Import Packages and Libraries"
   ]
  },
  {
   "cell_type": "code",
   "execution_count": 1,
   "metadata": {},
   "outputs": [
    {
     "name": "stderr",
     "output_type": "stream",
     "text": [
      "Using TensorFlow backend.\n",
      "C:\\Users\\User\\Anaconda3\\lib\\site-packages\\gensim\\utils.py:1197: UserWarning: detected Windows; aliasing chunkize to chunkize_serial\n",
      "  warnings.warn(\"detected Windows; aliasing chunkize to chunkize_serial\")\n"
     ]
    }
   ],
   "source": [
    "from __future__ import absolute_import, division, print_function, unicode_literals\n",
    "import tensorflow as tf\n",
    "from tensorflow.keras import layers\n",
    "from keras.preprocessing.text import Tokenizer\n",
    "from keras.preprocessing.sequence import pad_sequences\n",
    "import numpy as np\n",
    "import pandas as pd\n",
    "import re\n",
    "import gensim\n",
    "from gensim import corpora\n",
    "from gensim import similarities\n",
    "from gensim import models\n",
    "from sklearn.pipeline import Pipeline\n",
    "from sklearn.model_selection import train_test_split, GridSearchCV\n",
    "from sklearn.feature_extraction.text import CountVectorizer, TfidfTransformer, TfidfVectorizer\n",
    "from sklearn.metrics import classification_report, accuracy_score, confusion_matrix, f1_score\n",
    "from sklearn.linear_model import LogisticRegression\n",
    "from sklearn.naive_bayes import MultinomialNB, BernoulliNB, GaussianNB\n",
    "from sklearn.svm import SVC\n",
    "from sklearn.decomposition import PCA\n",
    "from sklearn.preprocessing import LabelEncoder\n",
    "import nltk\n",
    "from nltk.corpus import stopwords\n",
    "from nltk.stem.porter import *\n",
    "import warnings\n",
    "warnings.filterwarnings(\"ignore\")\n",
    "from datetime import datetime"
   ]
  },
  {
   "cell_type": "markdown",
   "metadata": {},
   "source": [
    "### Import Data File and Cleaning"
   ]
  },
  {
   "cell_type": "code",
   "execution_count": 2,
   "metadata": {},
   "outputs": [],
   "source": [
    "data_file = \"../Data/AllData_Sentiment.csv\"\n",
    "data = pd.read_csv(data_file)\n",
    "\n",
    "# data.info()\n",
    "# data.head()"
   ]
  },
  {
   "cell_type": "markdown",
   "metadata": {},
   "source": [
    "### Building a Model - Count Vector\n",
    "1. Multinomial NB\n",
    "2. Bernoulli NB\n",
    "3. Logistic Regression\n",
    "4. Support Vector Machine"
   ]
  },
  {
   "cell_type": "code",
   "execution_count": 3,
   "metadata": {},
   "outputs": [
    {
     "name": "stdout",
     "output_type": "stream",
     "text": [
      "2020-04-01 13:00:10.892592\n",
      "F1-score of Multinomial Naive Bayes with Count Vector is: 80.5997418277316\n",
      "Accuracy of Multinomial Naive Bayes with Count Vector is: 79.90260348379846\n",
      "F1-score of Bernoulli Naive Bayes with Count Vector is: 73.80429412845307\n",
      "Accuracy of Bernoulli Naive Bayes with Count Vector is: 72.41056377598801\n",
      "F1-score of Logistic Regression with Count Vector is: 93.23397712919302\n",
      "Accuracy of Logistic Regression with Count Vector is: 93.46319535493538\n",
      "F1-score of Support Vector Machine with Count Vector is: 94.250110680416\n",
      "Accuracy of Support Vector Machine with Count Vector is: 94.39970031841169\n",
      "{'C': 3, 'degree': 1, 'gamma': 0.1, 'kernel': 'rbf'}\n",
      "2020-04-01 13:39:05.248449\n"
     ]
    }
   ],
   "source": [
    "### done\n",
    "print (datetime.now())\n",
    "\n",
    "Classifiers = [MultinomialNB(), BernoulliNB(), LogisticRegression(), SVC()]\n",
    "\n",
    "reviews = data['Review_splitted']\n",
    "polarity = data['Polarity']\n",
    "X_train, X_test, y_train, y_test = train_test_split(reviews, polarity, test_size=0.25, random_state=42)\n",
    "\n",
    "countVectorizer = CountVectorizer(min_df = 4, max_df=0.85)\n",
    "X_train = countVectorizer.fit_transform(X_train)\n",
    "X_test = countVectorizer.transform(X_test)\n",
    "\n",
    "for i in range(len(Classifiers)):\n",
    "    clf = Classifiers[i]\n",
    "    clf_name = \"Test\"\n",
    "    \n",
    "    if i == int(0):\n",
    "        clf_name = \"Multinomial Naive Bayes\"\n",
    "        clf = Classifiers[i]\n",
    "    elif i == int(1):\n",
    "        clf_name = \"Bernoulli Naive Bayes\"\n",
    "        clf = Classifiers[i]\n",
    "    elif i == int(2):\n",
    "        clf_name = \"Logistic Regression\"\n",
    "        clf = Classifiers[i]\n",
    "    elif i == int(3):\n",
    "        clf_name = \"Support Vector Machine\"\n",
    "        clf = Classifiers[i]\n",
    "#         parameters = {'C':[1,2,3,4,5,6,7,8,14], 'gamma':[0.1, 0.01, 0.001, 0.0001], 'kernel':['linear', 'poly', 'rbf'], 'degree': [1,2,3,4,5]}\n",
    "        parameters = {'C':[1,2,3], 'gamma':[0.1, 0.01], 'kernel':['linear', 'poly', 'rbf'], 'degree': [1,2]}\n",
    "        clf = GridSearchCV(estimator = clf, param_grid = parameters)\n",
    "        \n",
    "    clf.fit(X_train, y_train)\n",
    "    clf_ypred = clf.predict(X_test)\n",
    "    f1_clf = f1_score(y_test, clf_ypred, average = 'weighted')\n",
    "    accuracy_clf = accuracy_score(y_test, clf_ypred)\n",
    "    print (\"F1-score of\", clf_name, \"with Count Vector is:\", f1_clf*100)\n",
    "    print (\"Accuracy of\", clf_name, \"with Count Vector is:\", accuracy_clf*100)\n",
    "    \n",
    "    if clf_name == \"Support Vector Machine\":\n",
    "        print (clf.best_params_)\n",
    "\n",
    "print (datetime.now())"
   ]
  },
  {
   "cell_type": "markdown",
   "metadata": {},
   "source": [
    "### Building a Model - TFIDF (use_idf = False)\n",
    "1. Multinomial NB\n",
    "2. Bernoulli NB\n",
    "3. Logistic Regression\n",
    "4. Support Vector Machine"
   ]
  },
  {
   "cell_type": "code",
   "execution_count": 4,
   "metadata": {},
   "outputs": [
    {
     "name": "stdout",
     "output_type": "stream",
     "text": [
      "2020-04-01 13:39:05.267400\n",
      "F1-score of Multinomial Naive Bayes with TFIDF (use_idf = False) is: 80.40566768548723\n",
      "Accuracy of Multinomial Naive Bayes with TFIDF (use_idf = False) is: 81.2886308297434\n",
      "F1-score of Bernoulli Naive Bayes with TFIDF (use_idf = False) is: 73.80429412845307\n",
      "Accuracy of Bernoulli Naive Bayes with TFIDF (use_idf = False) is: 72.41056377598801\n",
      "F1-score of Logistic Regression with TFIDF (use_idf = False) is: 90.10659445145508\n",
      "Accuracy of Logistic Regression with TFIDF (use_idf = False) is: 90.82225135793219\n",
      "F1-score of Support Vector Machine with TFIDF (use_idf = False) is: 93.9175918646446\n",
      "Accuracy of Support Vector Machine with TFIDF (use_idf = False) is: 94.0438284322907\n",
      "{'C': 3, 'degree': 1, 'gamma': 0.1, 'kernel': 'linear'}\n",
      "2020-04-01 14:01:27.879198\n"
     ]
    }
   ],
   "source": [
    "### done\n",
    "print (datetime.now())\n",
    "\n",
    "Classifiers = [MultinomialNB(), BernoulliNB(), LogisticRegression(), SVC()]\n",
    "\n",
    "reviews = data['Review_splitted']\n",
    "polarity = data['Polarity']\n",
    "X_train, X_test, y_train, y_test = train_test_split(reviews, polarity, test_size=0.25, random_state=42)\n",
    "\n",
    "tf_Vectorizer = TfidfVectorizer(use_idf = False, min_df = 4, max_df=0.85)\n",
    "X_train = tf_Vectorizer.fit_transform(X_train)\n",
    "X_test = tf_Vectorizer.transform(X_test)\n",
    "\n",
    "for i in range(len(Classifiers)):\n",
    "    clf = Classifiers[i]\n",
    "    clf_name = \"Test\"\n",
    "    \n",
    "    if i == int(0):\n",
    "        clf_name = \"Multinomial Naive Bayes\"\n",
    "        clf = Classifiers[i]\n",
    "    elif i == int(1):\n",
    "        clf_name = \"Bernoulli Naive Bayes\"\n",
    "        clf = Classifiers[i]\n",
    "    elif i == int(2):\n",
    "        clf_name = \"Logistic Regression\"\n",
    "        clf = Classifiers[i]\n",
    "    elif i == int(3):\n",
    "        clf_name = \"Support Vector Machine\"\n",
    "        clf = Classifiers[i]\n",
    "#         parameters = {'C':[1,2,3,4,5,6,7,8,14], 'gamma':[0.1, 0.01, 0.001, 0.0001], 'kernel':['linear', 'poly', 'rbf'], 'degree': [1,2,3,4,5]}\n",
    "        parameters = {'C':[1,2,3], 'gamma':[0.1, 0.01], 'kernel':['linear', 'poly', 'rbf'], 'degree': [1,2]}\n",
    "        clf = GridSearchCV(estimator = clf, param_grid = parameters)\n",
    "        \n",
    "    clf.fit(X_train, y_train)\n",
    "    clf_ypred = clf.predict(X_test)\n",
    "    f1_clf = f1_score(y_test, clf_ypred, average = 'weighted')\n",
    "    accuracy_clf = accuracy_score(y_test, clf_ypred)\n",
    "    print (\"F1-score of\", clf_name, \"with TFIDF (use_idf = False) is:\", f1_clf*100)\n",
    "    print (\"Accuracy of\", clf_name, \"with TFIDF (use_idf = False) is:\", accuracy_clf*100)\n",
    "    \n",
    "    if clf_name == \"Support Vector Machine\":\n",
    "        print (clf.best_params_)\n",
    "    \n",
    "print (datetime.now())"
   ]
  },
  {
   "cell_type": "markdown",
   "metadata": {},
   "source": [
    "### Building a Model - TFIDF (use_idf = True)\n",
    "1. Multinomial NB\n",
    "2. Bernoulli NB\n",
    "3. Logistic Regression\n",
    "4. Support Vector Machine"
   ]
  },
  {
   "cell_type": "code",
   "execution_count": 5,
   "metadata": {},
   "outputs": [
    {
     "name": "stdout",
     "output_type": "stream",
     "text": [
      "2020-04-01 14:01:27.894158\n",
      "F1-score of Multinomial Naive Bayes with TFIDF (use_idf = True) is: 82.08793976199105\n",
      "Accuracy of Multinomial Naive Bayes with TFIDF (use_idf = True) is: 82.71211837422739\n",
      "F1-score of Bernoulli Naive Bayes with TFIDF (use_idf = True) is: 73.80429412845307\n",
      "Accuracy of Bernoulli Naive Bayes with TFIDF (use_idf = True) is: 72.41056377598801\n",
      "F1-score of Logistic Regression with TFIDF (use_idf = True) is: 91.37239199102267\n",
      "Accuracy of Logistic Regression with TFIDF (use_idf = True) is: 92.02097771118187\n",
      "F1-score of Support Vector Machine with TFIDF (use_idf = True) is: 94.2607705165996\n",
      "Accuracy of Support Vector Machine with TFIDF (use_idf = True) is: 94.32477992133357\n",
      "{'C': 3, 'degree': 1, 'gamma': 0.1, 'kernel': 'linear'}\n",
      "2020-04-01 14:23:09.804081\n"
     ]
    }
   ],
   "source": [
    "### done\n",
    "print (datetime.now())\n",
    "\n",
    "Classifiers = [MultinomialNB(), BernoulliNB(), LogisticRegression(), SVC()]\n",
    "\n",
    "reviews = data['Review_splitted']\n",
    "polarity = data['Polarity']\n",
    "X_train, X_test, y_train, y_test = train_test_split(reviews, polarity, test_size=0.25, random_state=42)\n",
    "\n",
    "tfidfVectorizer = TfidfVectorizer(use_idf = True, min_df = 4, max_df=0.85)\n",
    "X_train = tfidfVectorizer.fit_transform(X_train)\n",
    "X_test = tfidfVectorizer.transform(X_test)\n",
    "\n",
    "for i in range(len(Classifiers)):\n",
    "    clf = Classifiers[i]\n",
    "    clf_name = \"Test\"\n",
    "    \n",
    "    if i == int(0):\n",
    "        clf_name = \"Multinomial Naive Bayes\"\n",
    "        clf = Classifiers[i]\n",
    "    elif i == int(1):\n",
    "        clf_name = \"Bernoulli Naive Bayes\"\n",
    "        clf = Classifiers[i]\n",
    "    elif i == int(2):\n",
    "        clf_name = \"Logistic Regression\"\n",
    "        clf = Classifiers[i]\n",
    "    elif i == int(3):\n",
    "        clf_name = \"Support Vector Machine\"\n",
    "        clf = Classifiers[i]\n",
    "#         parameters = {'C':[1,2,3,4,5,6,7,8,14], 'gamma':[0.1, 0.01, 0.001, 0.0001], 'kernel':['linear', 'poly', 'rbf'], 'degree': [1,2,3,4,5]}\n",
    "        parameters = {'C':[1,2,3], 'gamma':[0.1, 0.01], 'kernel':['linear', 'poly', 'rbf'], 'degree': [1,2]}\n",
    "        clf = GridSearchCV(estimator = clf, param_grid = parameters)\n",
    "        \n",
    "    clf.fit(X_train, y_train)\n",
    "    clf_ypred = clf.predict(X_test)\n",
    "    f1_clf = f1_score(y_test, clf_ypred, average = 'weighted')\n",
    "    accuracy_clf = accuracy_score(y_test, clf_ypred)\n",
    "    print (\"F1-score of\", clf_name, \"with TFIDF (use_idf = True) is:\", f1_clf*100)\n",
    "    print (\"Accuracy of\", clf_name, \"with TFIDF (use_idf = True) is:\", accuracy_clf*100)\n",
    "    \n",
    "    if clf_name == \"Support Vector Machine\":\n",
    "        print (clf.best_params_)\n",
    "\n",
    "print (datetime.now())"
   ]
  }
 ],
 "metadata": {
  "kernelspec": {
   "display_name": "Python 3",
   "language": "python",
   "name": "python3"
  },
  "language_info": {
   "codemirror_mode": {
    "name": "ipython",
    "version": 3
   },
   "file_extension": ".py",
   "mimetype": "text/x-python",
   "name": "python",
   "nbconvert_exporter": "python",
   "pygments_lexer": "ipython3",
   "version": "3.7.6"
  }
 },
 "nbformat": 4,
 "nbformat_minor": 2
}
