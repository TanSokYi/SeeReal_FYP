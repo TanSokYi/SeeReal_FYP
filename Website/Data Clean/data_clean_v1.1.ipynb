{
 "cells": [
  {
   "cell_type": "code",
   "execution_count": 1,
   "metadata": {},
   "outputs": [
    {
     "name": "stdout",
     "output_type": "stream",
     "text": [
      "<class 'pandas.core.frame.DataFrame'>\n",
      "RangeIndex: 999 entries, 0 to 998\n",
      "Data columns (total 13 columns):\n",
      "Unnamed: 0          999 non-null int64\n",
      "Brand               999 non-null object\n",
      "Category            999 non-null object\n",
      "Product Name        999 non-null object\n",
      "Price               999 non-null float64\n",
      "Reviewer            999 non-null object\n",
      "Review              999 non-null object\n",
      "Product Purchase    999 non-null object\n",
      "Ratings             999 non-null int64\n",
      "Date Of Review      999 non-null object\n",
      "Response            999 non-null object\n",
      "category            629 non-null object\n",
      "Polarity            551 non-null object\n",
      "dtypes: float64(1), int64(2), object(10)\n",
      "memory usage: 101.5+ KB\n"
     ]
    }
   ],
   "source": [
    "import pandas as pd\n",
    "import numpy as np\n",
    "\n",
    "# datafile\n",
    "data_file = \"Shopee_Maybelline_cleaned.csv\"\n",
    "df = pd.read_csv(data_file)\n",
    "# reason for doing this is cause cannot get columns with space into a list\n",
    "df.info()\n",
    "\n"
   ]
  },
  {
   "cell_type": "code",
   "execution_count": 6,
   "metadata": {},
   "outputs": [],
   "source": [
    "import datetime\n",
    "df[\"Date Of Review\"] =pd.to_datetime(df['Date Of Review'])\n",
    "\n",
    "#Remove Variation: under product purchased\n",
    "df['Product Purchase'] = df['Product Purchase'].str.replace(\"Variation:\", \"\")\n",
    "\n",
    "#Lower all reviews for easy analysis\n",
    "df[\"Review\"] = df[\"Review\"].str.lower()\n",
    "df['category'] = df['category'].str.lower()\n",
    "\n",
    "df = df.loc[(df['category'] >= \"delivery\") & (df['category'] <= \"product\")]\n",
    "\n",
    "df.head()\n",
    "df.to_csv('SHOPPEE_MAYBELLINE_CLEAN.csv')"
   ]
  },
  {
   "cell_type": "code",
   "execution_count": null,
   "metadata": {},
   "outputs": [],
   "source": []
  }
 ],
 "metadata": {
  "kernelspec": {
   "display_name": "Python 3",
   "language": "python",
   "name": "python3"
  },
  "language_info": {
   "codemirror_mode": {
    "name": "ipython",
    "version": 3
   },
   "file_extension": ".py",
   "mimetype": "text/x-python",
   "name": "python",
   "nbconvert_exporter": "python",
   "pygments_lexer": "ipython3",
   "version": "3.7.1"
  }
 },
 "nbformat": 4,
 "nbformat_minor": 2
}
